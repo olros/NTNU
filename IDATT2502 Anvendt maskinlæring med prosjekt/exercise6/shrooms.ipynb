{
 "cells": [
  {
   "cell_type": "code",
   "execution_count": 1,
   "source": [
    "\n",
    "from sklearn import decomposition\n",
    "from sklearn.feature_selection import SelectKBest\n",
    "from sklearn.feature_selection import chi2\n",
    "import pandas as pd\n",
    " \n",
    "\n",
    "data = pd.read_csv('./agaricus-lepiota.csv')\n",
    "dummies = pd.get_dummies(data)\n",
    "x, y = pd.get_dummies(data), pd.get_dummies(data['edibility'])\n",
    "\n",
    "print(\"X shape:\", x.shape)\n",
    "print(\"y shape:\", y.shape)\n",
    "\n",
    "skb = SelectKBest(chi2, k=5)\n",
    "skb.fit(x, y)\n",
    "x_new = skb.transform(x)\n",
    "\n",
    "print(\"skb shape:\", x_new.shape)\n",
    "\n",
    "selected = [dummies.columns[i] for i in skb.get_support(indices=True)]\n",
    "print(\"Selected features:\", \", \".join(selected))"
   ],
   "outputs": [
    {
     "output_type": "stream",
     "name": "stdout",
     "text": [
      "X shape: (8124, 119)\n",
      "y shape: (8124, 2)\n",
      "skb shape: (8124, 5)\n",
      "Selected features: edibility_e, edibility_p, odor_f, odor_n, stalk-surface-above-ring_k\n"
     ]
    }
   ],
   "metadata": {}
  },
  {
   "cell_type": "code",
   "execution_count": 2,
   "source": [
    "\n",
    "print(\"Original space:\", x.shape)\n",
    "pca = decomposition.PCA(n_components=5)\n",
    "x_pca = pca.fit_transform(x)\n",
    "\n",
    "print(\"PCA space:\", x_pca.shape)\n",
    "best_features = [pca.components_[i].argmax() for i in range(x_pca.shape[1])]\n",
    "feature_names = [x.columns[best_features[i]] for i in range(x_pca.shape[1])]\n",
    "print(\"Features in which gives max variance:\", \", \".join(feature_names))"
   ],
   "outputs": [
    {
     "output_type": "stream",
     "name": "stdout",
     "text": [
      "Original space: (8124, 119)\n",
      "PCA space: (8124, 5)\n",
      "Features in which gives max variance: edibility_p, stalk-root_b, habitat_g, stalk-shape_t, odor_n\n"
     ]
    }
   ],
   "metadata": {}
  },
  {
   "cell_type": "code",
   "execution_count": 3,
   "source": [
    "set(selected).intersection(set(feature_names))"
   ],
   "outputs": [
    {
     "output_type": "execute_result",
     "data": {
      "text/plain": [
       "{'edibility_p', 'odor_n'}"
      ]
     },
     "metadata": {},
     "execution_count": 3
    }
   ],
   "metadata": {}
  }
 ],
 "metadata": {
  "orig_nbformat": 4,
  "language_info": {
   "name": "python",
   "version": "3.9.5",
   "mimetype": "text/x-python",
   "codemirror_mode": {
    "name": "ipython",
    "version": 3
   },
   "pygments_lexer": "ipython3",
   "nbconvert_exporter": "python",
   "file_extension": ".py"
  },
  "kernelspec": {
   "name": "python3",
   "display_name": "Python 3.9.5 64-bit"
  },
  "interpreter": {
   "hash": "916dbcbb3f70747c44a77c7bcd40155683ae19c65e1c03b4aa3499c5328201f1"
  }
 },
 "nbformat": 4,
 "nbformat_minor": 2
}