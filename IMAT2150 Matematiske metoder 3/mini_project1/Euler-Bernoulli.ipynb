{
 "cells": [
  {
   "cell_type": "markdown",
   "source": [
    "# Prosjekt: Euler-Bernoulli Bjelken\n",
    "***\n",
    "## Innlevering\n",
    "En <strong>zip-fil</strong> (ikke tar-fil) som inneholder en rapport skrevet med Jupyter Notebook samt alle produserte filer.\n",
    "## Euler-Bernoullibjelken\n",
    "Euler-Bernoullibjelken er en modell for materialer som bøyes under\n",
    "belastning, inkludert egenvekten av bjelken. Den vertikale\n",
    "forskyvingen av en $L$ meter lang bjelke beskrives av en funksjon $y(x)$, $0\\leq x\\leq L$. (**Positiv retning for $y$ er nedover.**)\n",
    "### Likningen\n",
    "Forskyvingen $y(x)$ tilfredsstiller Euler-Bernouillilikningen\n",
    "\\begin{equation}\n",
    "\\label{eq:EBE}\n",
    "EIy''''=f(x)\n",
    "\\end{equation}\n",
    "der $E$ er en materialkonstant, kalt Youngmodulusen. $I$ er et arealmoment til bjelkens tverrsnitt normalt på lengderetningen. En bjelke kjennetegnes med at $I$ er konstant langs bjelken, (har samme tverrsnitt langs hele bjelken). Høyresiden $f(x)$ er kraft som virker på bjelken per lengde-enhet målt i Newton per meter. Kraften inkluderer vekten til bjelken. Les mer om dette på sidene 102-104 i læreboka. Likning (2.27) kan dere ta for gitt.\n",
    "\n",
    "\n",
    "### Betingelser på endepunktene\n",
    "Stupebrettet er festet slik at $y(0)=0$ og $y'(0)=0$. I den frie enden vil $y''(L)=0$ og $y'''(L)=0$.\n",
    "\n",
    "### Nummerisk beregning av $y''''(x)$.\n",
    "Funksjonen $y$ kan representeres nummerisk ved å ta verdien i et bestemte punkter, $x_1=h,x_2=2h,\\ldots,x_j=j\\cdot h, x_n=L=n\\cdot h$. Dette er en vektor $[y_1,y_2,\\ldots,y_n]^T$, der $y_j\\approx y(x_j)$. Dette kalles en diskret tilnærming av $y(x)$.\n",
    "\n",
    "Det kan vises at $$y''''(x)=\\frac{y(x-2h)-4y(x-h)+6y(x)-4y(x+h)+y(x+2h)}{h^4}+O(h^2).$$\n",
    "Det siste leddet $O(h^2)$ er såkalt stor-O noatsjon og betyr at feilen vil være proposjonal $h^2$ for små verdier av $h$. Det kan vises at hvis $y(x)$ er et polynom av grad 5 eller lavere så er $$y''''(x)=\\frac{y(x-2h)-4y(x-h)+6y(x)-4y(x+h)+y(x+2h)}{h^4}.$$ Det kan dere bruke i tolkningen av grafen dere får i oppgave 2.\n",
    "\n",
    "Euler-Bernoulli likningen på matriseform er gitt ved\n",
    "\n",
    "$$\n",
    "\\left[\\begin{array}{ccccccccc}\n",
    "16&-9&\\frac83&-\\frac14\\\\\n",
    "-4&6&-4&1\\\\\n",
    "1&-4&6&-4&1\\\\\n",
    "&1&-4&6&-4&1\\\\\n",
    "&&\\ddots&\\ddots&\\ddots&\\ddots&\\ddots\\\\\n",
    "&&&1&-4&6&-4&1\\\\\n",
    "&&&&1&-4&6&-4&1\\\\\n",
    "&&&&&\\frac{16}{17}&-\\frac{60}{17}&\\frac{72}{17}&-\\frac{28}{17}\\\\\n",
    "&&&&&-\\frac{12}{17}&\\frac{96}{17}&-\\frac{156}{17}&\\frac{72}{17}\\\\\n",
    "\\end{array}\\right]\n",
    "\\left[\\begin{array}{c}\n",
    "y_1\\\\y_2\\\\y_3\\\\y_4\\\\\\vdots\\\\\\vdots\\\\\\vdots\\\\y_{n-1}\\\\y_n\n",
    "\\end{array}\\right]\n",
    "=\n",
    "\\frac{h^4}{EI}\\left[\\begin{array}{c}\n",
    "f(x_1)\\\\f(x_2)\\\\f(x_3)\\\\f(x_4)\\\\\\vdots\\\\\\vdots\\\\\\vdots\\\\f(x_{n-1})\\\\f(x_n)\n",
    "\\end{array}\\right]\n",
    "$$\n",
    "\n",
    "Matrise-multiplikasjonen $\\frac1{h^4}A\\mathbf y$ gir en tilnærming av den fjerdederiverte $y''''(x)$. Feilen går som $h^2$. De litt mystiske\n",
    "\n"
   ],
   "metadata": {
    "clickable": false,
    "deletable": false,
    "editable": false,
    "frozen": true
   }
  },
  {
   "cell_type": "markdown",
   "source": [],
   "metadata": {}
  },
  {
   "cell_type": "markdown",
   "source": [
    "### Kode\n",
    "Dere skal bruke følgende Python kode til å lage matrisen A. Grunnen er at det er mest effektivt å bruke scipy.sparse når vi jobber med tynne matriser i Python."
   ],
   "metadata": {}
  },
  {
   "cell_type": "code",
   "execution_count": 2,
   "source": [
    "%matplotlib inline\n",
    "import numpy as np\n",
    "import scipy.sparse\n",
    "import scipy.sparse.linalg\n",
    "\n",
    "# The following method returns the matrix A used in the exercises.\n",
    "# The method make_A returns a so called sparse matrix. This is\n",
    "# a matrix where most of the entries are zero. \n",
    "def make_A(n):\n",
    "    data = np.array([[1,-4,6,-4,1]]).T@np.ones([1,n])   # multi diagonals, @ is \n",
    "                                                        #matrix multiplication \n",
    "    offset = np.array([-2,-1,0,1,2])                    # diagonal offsets\n",
    "    A = scipy.sparse.dia_matrix((data,offset),(n,n))    # make sparse multi-diagonal \n",
    "                                                        # matrix\n",
    "    A = A.tolil()  # Transform to a sparse matrix format that is suitable to \n",
    "                   #change individual entries.\n",
    "    A[0,0:4] = np.array([16,-9,8/3,-1/4])               # Set special entries\n",
    "    A[n-2:n,n-4:n] = np.array([[ 16,-60,  72,-28],      # that do not follow \n",
    "                               [-12, 96,-156, 72]])/17  # the 1,-4,6,-4,1 pattern.\n",
    "    A = A.tocsc()\n",
    "    return A\n",
    "\n",
    "# The following method returns the vector on the right hand side of the\n",
    "# Euler-Bernoulli equation.\n",
    "def make_F(n):\n",
    "    L=2;w=0.3;d=0.03                    # Set the dimensions of the beam.\n",
    "    E=1.3e10;g=9.81;density=480         # Set the physical constants\n",
    "    h=L/n;                              # Calculate the step length\n",
    "    I= w * d**3 /12                     # Calculate the momentum of inertia \n",
    "    f = -density*w*d*g;                 # Calculate force per meter.\n",
    "    F = h**4/(E*I)*f*np.ones([n,1])     # Right hand side of the\n",
    "                                        # Euler-Bernoulli equation.\n",
    "    return F \n",
    "\n",
    "# This function gives the exact solution of the unloaded beam\n",
    "def y_exact_0(x):\n",
    "    L = 2; w = 0.3; d = 0.03              # Set the dimensions of the beam.\n",
    "    E = 1.3e10; g = 9.81; density = 480   # Set the physical constants\n",
    "    I =  w * d**3 / 12                    # Calculate the momentum of inertia \n",
    "    f = -density*w*d*g;                   # Calculate force per meter.\n",
    "    return (f/(24*E*I))*x*x*(((x-4*L)*x)+6*L**2)\n",
    "\n",
    "def make_x(n):\n",
    "    L=2\n",
    "    h=L/n\n",
    "    return np.linspace(h,L,n)\n",
    "\n",
    "# The following method returns the condition number of a sparse matrix A.\n",
    "# Use this method instead of any built in methods.\n",
    "def my_cond(S):\n",
    "    (n,n) = S.shape\n",
    "    if (n > 10240):\n",
    "        raise ValueError('The dimension is to high!')\n",
    "    norm_S = scipy.sparse.linalg.norm(S, np.inf)\n",
    "    norm_invS = scipy.sparse.linalg.norm(scipy.sparse.linalg.inv(S), np.inf)\n",
    "    return norm_S*norm_invS\n"
   ],
   "outputs": [],
   "metadata": {}
  },
  {
   "cell_type": "markdown",
   "source": [
    "### Oppgave 1.\n",
    "  **a)** Dere skal vise at likningen $EIy''''=f$ for konstant $f$ har løsning\n",
    "  $$y(x)=\\frac{f}{24EI}x^2(x^2-4Lx+6L^2).$$\n",
    "\n",
    "  **b)** Vis også at løsningen $y(x)$ over også tilfredstiller betingelsene på endepuntene $x=0$ og $x=L$.\n",
    "\n",
    "($y(0)=y'(0)=y''(L)=y'''(L)=0$.)\n",
    "  \n",
    "  Matrisemultiplikasjonen $\\frac{1}{h^4}Ay$ beregner $y''''(x)$ i hvert samplingspunkt der feilen går som $h^2$. Nærmere bestemt kan det vises at feien er mindre eller lik $Ky^{(6)}(x)$, der $K$ er en konstant.\n",
    "  \n",
    "  **c)** Hvor stor er feilen $e=|\\frac{1}{h^4}Ay-y''''(x)|$, når $y(x)$ er løsningen gitt i oppgave a).\n",
    "\n",
    "**Dere kan svare på denne oppgaven i denne notebook eller på et eget ark.**"
   ],
   "metadata": {}
  },
  {
   "cell_type": "code",
   "execution_count": 3,
   "source": [
    "#Skriv kode for oppgave 1 her\n",
    "from scipy.misc import derivative\n",
    "\n",
    "#a)\n",
    "print(\"a)\")\n",
    "n=10\n",
    "E=1.3e10;g=9.81;density=480 \n",
    "w = 0.3; d = 0.03   \n",
    "L=2\n",
    "I = w * d**3 / 12\n",
    "h=L/n\n",
    "const_f = -1*density*w*d*g\n",
    "x = make_x(n)\n",
    "y_prime_4 = ((1/h**4) * make_A(n) * y_exact_0(x))\n",
    "left = E*I *y_prime_4\n",
    "right = const_f\n",
    "for num in left:\n",
    "    round_amount=5\n",
    "    right_test = round(right,round_amount)\n",
    "    left_test = round(num,round_amount)\n",
    "    print(right_test == left_test)\n",
    "    print(left_test)\n",
    "    print(right_test)\n",
    "    \n",
    "    \n",
    "#they are the same down to a rounding of amount 14\n",
    "print(\"\\n\\n\")\n",
    "\n",
    "#b)\n",
    "y = y_exact_0\n",
    "y_ = y_exact_0(0)\n",
    "y_1 = derivative(y, 0, dx=1e-16, n=1)\n",
    "y_2 = derivative(y, 2, dx=1e-16, n=2)\n",
    "y_3 = derivative(y, 2, dx=1e-16, n=3, order =5)\n",
    "\n",
    "\n",
    "print(\"b)\")\n",
    "print(f\"{y_} y(x)\")\n",
    "print(f\"{y_1}  y'(x)\")\n",
    "print(f\"{y_2}  y''(x)\")\n",
    "print(f\"{y_3}  y'''(x)\")\n",
    "print(\"\\n\\n\")\n",
    "\n",
    "#c)\n",
    "print(\"c)\")\n",
    "x = make_x(n)\n",
    "print(y_prime_4)\n",
    "second = derivative(y, x, n=4, order = 5)\n",
    "print(second)\n",
    "\n",
    "e = abs(y_prime_4-second)\n",
    "print(f\"e = {e}\")"
   ],
   "outputs": [
    {
     "output_type": "stream",
     "name": "stdout",
     "text": [
      "a)\n",
      "True\n",
      "-42.3792\n",
      "-42.3792\n",
      "True\n",
      "-42.3792\n",
      "-42.3792\n",
      "True\n",
      "-42.3792\n",
      "-42.3792\n",
      "True\n",
      "-42.3792\n",
      "-42.3792\n",
      "True\n",
      "-42.3792\n",
      "-42.3792\n",
      "True\n",
      "-42.3792\n",
      "-42.3792\n",
      "True\n",
      "-42.3792\n",
      "-42.3792\n",
      "True\n",
      "-42.3792\n",
      "-42.3792\n",
      "True\n",
      "-42.3792\n",
      "-42.3792\n",
      "True\n",
      "-42.3792\n",
      "-42.3792\n",
      "\n",
      "\n",
      "\n",
      "b)\n",
      "-0.0 y(x)\n",
      "0.0  y'(x)\n",
      "0.0  y''(x)\n",
      "0.0  y'''(x)\n",
      "\n",
      "\n",
      "\n",
      "c)\n",
      "[-0.00482954 -0.00482954 -0.00482954 -0.00482954 -0.00482954 -0.00482954\n",
      " -0.00482954 -0.00482954 -0.00482954 -0.00482954]\n",
      "[-0.00482954 -0.00482954 -0.00482954 -0.00482954 -0.00482954 -0.00482954\n",
      " -0.00482954 -0.00482954 -0.00482954 -0.00482954]\n",
      "e = [4.42354486e-16 1.33747180e-15 1.76594850e-15 2.22911967e-15\n",
      " 1.34614542e-15 1.80064297e-15 2.64718802e-15 5.34641775e-15\n",
      " 2.64718802e-15 6.24153507e-15]\n"
     ]
    }
   ],
   "metadata": {}
  },
  {
   "cell_type": "markdown",
   "source": [
    "Fra svaret i oppgave 1 har dere en eksakt løsning på randverdiproblemet for stupebrettets form. Denne skal dere bruke i neste oppgave.\n",
    "\n",
    "### Oppgave 2\n",
    "I denne oppgaven skal dere løse matriselikningen i seksjonen om Nummerisk beregning av $y''''(x)$. \n",
    "\n",
    "**a)** Løs $Ay=b$, der A er matrisen over og $b$ er høyresiden. Dere kan bruke koden som dere finner i seksjonen **Kode**. (NB: Bruk scipy.sparse.linalg.spsolve(A,b) for å løse systemet Ax=b.)\n",
    "\n",
    "**b)** Plot resultatet i et aksesystem. Dere vil få bruk for Python-funksjonen **plot** i biblioteket **matplotlib.pyplot**.\n",
    "\n",
    "(Tips: pyplot.plot(x,y) tar endimensjonale arrays som argumenter. De må ha samme antall elementer. Resultatet blir en kurve gjennom punktene (x[0],y[0]), (x[1],y[1]), etc.)\n",
    "\n",
    "**c)** Plot også den eksakte løsningen fra oppgave 1 i det samme koordinatsystemet.\n",
    "\n",
    "(Hint: Dere kan bruke funksjonen y_exact(x) og make_x(n). Python aritmetikk virker direkte på numpy- og scipy-arrays. Kall plot() en gang til. Bruk plt.figure(1) og plt.figure(2) for å tegne figurer i to forskjellige aksesystem. Uten det blir begge figurer tegnet i samme aksekors. Om du har regnet riktig så skal du da se kun en kurve. Test gjerne ut _plt.legend_([\"tekst1\",\"tekst2\"]), _plt.title_(\"tekst\"), _plt.xlabel_(\"tekst\") og\n",
    "_plt.ylabel_(\"tekst\") for å gi navn på akser og så videre.)"
   ],
   "metadata": {}
  },
  {
   "cell_type": "code",
   "execution_count": 4,
   "source": [
    "#Skriv kode for oppgave 2 her\n",
    "import matplotlib.pyplot as plt\n",
    "\n",
    "# a)\n",
    "n= 4\n",
    "A = make_A(n)\n",
    "b = make_F(n)\n",
    "x = np.array(scipy.sparse.linalg.spsolve(A,b))\n",
    "print(x)\n",
    "\n",
    "\n",
    "# b)\n",
    "plt.plot(x, b, '-')\n",
    "\n",
    "plt.xlabel('x')\n",
    "plt.ylabel('y')\n",
    "plt.show()\n",
    "\n",
    "# c)\n",
    "exact = derivative(y, x, n=4, order = 5)\n",
    "\n",
    "plt.plot(x, exact, '-')\n",
    "plt.show()"
   ],
   "outputs": [
    {
     "output_type": "stream",
     "name": "stdout",
     "text": [
      "[-0.00101873 -0.00342092 -0.00645196 -0.00965908]\n"
     ]
    },
    {
     "output_type": "display_data",
     "data": {
      "image/png": "[encoded data removed]",
      "text/plain": [
       "<Figure size 432x288 with 1 Axes>"
      ]
     },
     "metadata": {
      "needs_background": "light"
     }
    },
    {
     "output_type": "display_data",
     "data": {
      "image/png": "[encoded data removed]",
      "text/plain": [
       "<Figure size 432x288 with 1 Axes>"
      ]
     },
     "metadata": {
      "needs_background": "light"
     }
    }
   ],
   "metadata": {}
  },
  {
   "cell_type": "markdown",
   "source": [
    "### Oppgave 3\n",
    "\n",
    "**a)** Løs systemet $Ay=b$ med følgende verdier av n: $n=20,40,80,\\ldots,10\\cdot 2^9$.\n",
    "\n",
    "**b)** Regn ut relative feilene i endepunktet $x=2$. Disse kan leses av ved å bruke Python-notasjonen y[-1] for hver løsning dere får for de forskjellige verdiene av _n_. Dere skal sammenligne denne med den eksakte verdien som dere får ved å skrive y_exact(2).\n",
    "\n",
    "**c)** Presenter resultatet i en tabell og i en graf. Dere bør plotte absolutverdien til feilen. Bruk funksjonen plt.loglog() for å få logaritmisk skala på begge akser. Diskuter hvordan dette resultatet passer med at feilen i de nummeriske formlene skal gå som $h^2$.\n",
    "\n",
    "**d)** Regn ut kondisjonstallet multiplisert med $\\epsilon_{Mach}$ til $A$ for de 7 første vardiene av $n$ tegn. Plot resultatet sammen med feilen i oppgave **c)**. Forklar sammenhengen mellom grafen til kondisjonstallet og grafen for absolutt feil. Bruk det dere har lært om kondisjonstall i forklaringen."
   ],
   "metadata": {}
  },
  {
   "cell_type": "code",
   "execution_count": 5,
   "source": [
    "#Skriv kode for oppgave 3 her\n",
    "\n",
    "errors = []\n",
    "n = 20\n",
    "while n <= 10*2**9:\n",
    "    n = n * 2\n",
    "    A = make_A(n)\n",
    "    b = make_F(n)\n",
    "    y = np.array(scipy.sparse.linalg.spsolve(A,b))\n",
    "\n",
    "    # a) (Commented out as the output is quite large)\n",
    "    # print(y)\n",
    "\n",
    "    # b)\n",
    "    error = abs(y[-1] - y_exact_0(2))\n",
    "    errors.append(error)\n",
    "    print(error)\n",
    "    \n",
    "# c)\n",
    "\n",
    "plt.loglog(errors)\n",
    "plt.show()\n",
    "\n",
    "# At feilen øker når `n` går opp er helt naturlig siden h^2 også øker når graden øker\n",
    "\n",
    "# d)"
   ],
   "outputs": [
    {
     "output_type": "stream",
     "name": "stdout",
     "text": [
      "5.533767888366015e-15\n",
      "1.979456529244139e-12\n",
      "1.381841689684915e-11\n",
      "2.9348002500428905e-10\n",
      "5.850543365742977e-10\n",
      "6.915120793690721e-09\n",
      "2.959371020044843e-07\n",
      "3.8339869415371375e-07\n",
      "5.040394692242857e-05\n"
     ]
    },
    {
     "output_type": "display_data",
     "data": {
      "image/png": "[encoded data removed]",
      "text/plain": [
       "<Figure size 432x288 with 1 Axes>"
      ]
     },
     "metadata": {
      "needs_background": "light"
     }
    }
   ],
   "metadata": {
    "scrolled": true
   }
  },
  {
   "cell_type": "markdown",
   "source": [
    "### Oppgave 4\n",
    "I denne oppgaven skal dere legge til en sinusformet haug på stupebrettet. Det gjøres ved å legge til en funksjon $s(x)=pg\\sin\\frac{\\pi}{L}x$ til kraftenleddet $f(x)$. Dere vil få bruk for følgende kode."
   ],
   "metadata": {}
  },
  {
   "cell_type": "code",
   "execution_count": 6,
   "source": [
    "# The following method returns the vector on the right hand side of the\n",
    "# Euler-Bernoulli equation for the beam loaded with a sinus formed pile.\n",
    "def make_F_1(n):\n",
    "    L=2;w=0.3;d=0.03                    # Set the dimensions of the beam.\n",
    "    E=1.3e10;g=9.81;density=480;p=100   # Set the physical constants\n",
    "    h=L/n;                              # Calculate the step length\n",
    "    I= w * d**3 /12                     # Calculate the momentum of inertia \n",
    "    f=-density*w*d*g*np.ones([n,1]);    # Calculate force per meter for the empty beam.\n",
    "    x=np.linspace(h,L,n).reshape([n,1]);\n",
    "    s=-p*g*np.sin(np.pi/L*x)            # Calculate force per meter caused by the pile.\n",
    "    return h**4/(E*I)*(s+f)             # Right hand side of the Euler-Bernoulli equation.\n",
    "\n",
    "# This function gives the exact solution of the unloaded beam\n",
    "def y_exact_1(x):\n",
    "    L=2;w=0.3;d=0.03                    # Set the dimensions of the beam.\n",
    "    E=1.3e10;g=9.81;density=480;p=100   # Set the physical constants\n",
    "    I= w * d**3 /12                     # Calculate the momentum of inertia \n",
    "    y_ex_0=y_exact_0(x)\n",
    "    pi = np.pi;\n",
    "    return y_ex_0-p*g*L/(E*I*pi)*(L**3/pi**3*np.sin(pi/L*x)-x**3/6+L/2*x**2-L**2/pi**2*x)"
   ],
   "outputs": [],
   "metadata": {}
  },
  {
   "cell_type": "markdown",
   "source": [
    "**a)** Skriv et Python program der dere løser Euler-Bernoulli med haugen som ekstra belastning.\n",
    "\n",
    "**b)** Lag et Python program som tegner løsningen fra a) sammen med eksakt løsning.\n",
    "\n",
    "**c)** Gjenta 3a) for situasjonen i denne oppgaven (sinusformet haug).\n",
    "\n",
    "**d)** Regn ut relative feilene i endepunktet $x=2$. Disse kan leses av ved å bruke Python-notasjonen y[-1] for hver løsning dere får for de forskjellige verdiene av _n_ i punkt _c)_. Dere skal sammenligne denne med den eksakte verdien som dere får ved å skrive y_exact_1(2).\n",
    "\n",
    "**e)** Presenter resultatet i en tabell og i en graf. Dere bør plotte absolutverdien til feilen. Bruk funksjonen plt.loglog() for å få logaritmisk skala på begge akser. Diskuter hvordan dette resultatet passer med at feilen i de nummeriske formlene skal gå som $h^2$. (plot også $n^{-2}\\sim h^2$ i samme graf). Plot også grafene fra _3d)_ i samme koordinatsystem.\n",
    "\n",
    "**f)** Diskuter resultatet du fikk i _e)_ \n"
   ],
   "metadata": {}
  },
  {
   "cell_type": "code",
   "execution_count": 7,
   "source": [
    "#Skriv kode for oppgave 4 her"
   ],
   "outputs": [],
   "metadata": {}
  }
 ],
 "metadata": {
  "kernelspec": {
   "name": "python3",
   "display_name": "Python 3.9.5 64-bit"
  },
  "language_info": {
   "codemirror_mode": {
    "name": "ipython",
    "version": 3
   },
   "file_extension": ".py",
   "mimetype": "text/x-python",
   "name": "python",
   "nbconvert_exporter": "python",
   "pygments_lexer": "ipython3",
   "version": "3.9.5"
  },
  "interpreter": {
   "hash": "916dbcbb3f70747c44a77c7bcd40155683ae19c65e1c03b4aa3499c5328201f1"
  }
 },
 "nbformat": 4,
 "nbformat_minor": 4
}