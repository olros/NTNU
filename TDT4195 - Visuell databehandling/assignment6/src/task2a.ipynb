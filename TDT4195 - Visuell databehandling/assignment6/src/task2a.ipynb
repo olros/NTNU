{
 "cells": [
  {
   "cell_type": "code",
   "execution_count": 16,
   "metadata": {},
   "outputs": [],
   "source": [
    "import numpy as np\n",
    "import skimage\n",
    "import utils\n",
    "import pathlib"
   ]
  },
  {
   "cell_type": "code",
   "execution_count": 17,
   "metadata": {},
   "outputs": [],
   "source": [
    "def otsu_thresholding(im: np.ndarray) -> int:\n",
    "    \"\"\"\n",
    "        Otsu's thresholding algorithm that segments an image into 1 or 0 (True or False)\n",
    "        The function takes in a grayscale image and outputs a threshold value\n",
    "\n",
    "        args:\n",
    "            im: np.ndarray of shape (H, W) in the range [0, 255] (dtype=np.uint8)\n",
    "        return:\n",
    "            (int) the computed thresholding value\n",
    "    \"\"\"\n",
    "    assert im.dtype == np.uint8\n",
    "    distinct_intensity_levels = 2**8  # L\n",
    "\n",
    "    height, width = im.shape\n",
    "    number_of_pixels = height * width\n",
    "\n",
    "    # Compute the normalized histogram\n",
    "    normalized_histogram = np.zeros(distinct_intensity_levels)\n",
    "    for y in range(height):\n",
    "        for x in range(width):\n",
    "            normalized_histogram[im[y, x]] += 1 / number_of_pixels\n",
    "\n",
    "    # Compute the cumulative sums\n",
    "    cumulative_sums = np.zeros(distinct_intensity_levels)\n",
    "    cumulative_sums[0] = normalized_histogram[0]\n",
    "    for i in range(1, distinct_intensity_levels):\n",
    "        cumulative_sums[i] = cumulative_sums[i - 1] + normalized_histogram[i]\n",
    "\n",
    "    # Compute the cumulative means\n",
    "    # Compute the cumulative means\n",
    "    cumulative_means = np.zeros(distinct_intensity_levels)\n",
    "    for i in range(1, distinct_intensity_levels):\n",
    "        cumulative_means[i] = cumulative_means[i - 1] + (i * normalized_histogram[i])\n",
    "\n",
    "    # Compute the global mean\n",
    "    global_mean = cumulative_means[distinct_intensity_levels - 1]\n",
    "\n",
    "    # Compute the between-class variance term\n",
    "    between_class_variance_term = np.zeros(distinct_intensity_levels)\n",
    "    for i in range(distinct_intensity_levels):\n",
    "        num = (global_mean * cumulative_sums[i] - cumulative_means[i]) ** 2\n",
    "        denom = cumulative_sums[i] * (1 - cumulative_sums[i])\n",
    "\n",
    "        if denom == 0:\n",
    "            between_class_variance_term[i] = 0\n",
    "        else:\n",
    "            between_class_variance_term[i] = num / denom\n",
    "\n",
    "    # Obtain the Otsu threshold, k*\n",
    "    max_variance = max(between_class_variance_term)\n",
    "    indices = np.where(between_class_variance_term == max_variance)[0]\n",
    "    threshold = round(sum(indices) / len(indices))\n",
    "\n",
    "    return threshold"
   ]
  },
  {
   "cell_type": "code",
   "execution_count": 18,
   "metadata": {},
   "outputs": [
    {
     "name": "stdout",
     "output_type": "stream",
     "text": [
      "Reading image: images/thumbprint.png\n",
      "Found optimal threshold: 153\n",
      "Saving image to: image_processed/thumbprint-segmented.png\n"
     ]
    },
    {
     "name": "stderr",
     "output_type": "stream",
     "text": [
      "/tmp/ipykernel_793/1997791817.py:16: DeprecationWarning: `np.bool` is a deprecated alias for the builtin `bool`. To silence this warning, use `bool` by itself. Doing this will not modify any behavior and is safe. If you specifically wanted the numpy scalar type, use `np.bool_` here.\n",
      "Deprecated in NumPy 1.20; for more details and guidance: https://numpy.org/devdocs/release/1.20.0-notes.html#deprecations\n",
      "  assert segmented_image.dtype == np.bool, \"Expected thresholded image dtype to be np.bool. Was: {}\".format(\n"
     ]
    },
    {
     "name": "stdout",
     "output_type": "stream",
     "text": [
      "Reading image: images/polymercell.png\n",
      "Found optimal threshold: 181\n",
      "Saving image to: image_processed/polymercell-segmented.png\n"
     ]
    }
   ],
   "source": [
    "if __name__ == \"__main__\":\n",
    "    # DO NOT CHANGE\n",
    "    impaths_to_segment = [\n",
    "        pathlib.Path(\"thumbprint.png\"),\n",
    "        pathlib.Path(\"polymercell.png\")\n",
    "    ]\n",
    "    for impath in impaths_to_segment:\n",
    "        im = utils.read_image(impath)\n",
    "        threshold = otsu_thresholding(im)\n",
    "        print(\"Found optimal threshold:\", threshold)\n",
    "\n",
    "        # Segment the image by threshold\n",
    "        segmented_image = (im >= threshold)\n",
    "        assert im.shape == segmented_image.shape, \"Expected image shape ({}) to be same as thresholded image shape ({})\".format(\n",
    "                im.shape, segmented_image.shape)\n",
    "        assert segmented_image.dtype == np.bool, \"Expected thresholded image dtype to be np.bool. Was: {}\".format(\n",
    "                segmented_image.dtype)\n",
    "\n",
    "        segmented_image = utils.to_uint8(segmented_image)\n",
    "\n",
    "        save_path = \"{}-segmented.png\".format(impath.stem)\n",
    "        utils.save_im(save_path, segmented_image)"
   ]
  }
 ],
 "metadata": {
  "kernelspec": {
   "display_name": "Python 3.9.5 64-bit",
   "language": "python",
   "name": "python3"
  },
  "language_info": {
   "codemirror_mode": {
    "name": "ipython",
    "version": 3
   },
   "file_extension": ".py",
   "mimetype": "text/x-python",
   "name": "python",
   "nbconvert_exporter": "python",
   "pygments_lexer": "ipython3",
   "version": "3.9.5"
  },
  "vscode": {
   "interpreter": {
    "hash": "f9f85f796d01129d0dd105a088854619f454435301f6ffec2fea96ecbd9be4ac"
   }
  }
 },
 "nbformat": 4,
 "nbformat_minor": 4
}
