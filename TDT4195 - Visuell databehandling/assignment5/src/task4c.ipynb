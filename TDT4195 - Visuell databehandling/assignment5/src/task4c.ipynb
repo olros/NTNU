{
 "cells": [
  {
   "cell_type": "code",
   "execution_count": 1,
   "metadata": {},
   "outputs": [
    {
     "name": "stderr",
     "output_type": "stream",
     "text": [
      "/home/olros/.local/lib/python3.9/site-packages/tqdm/auto.py:22: TqdmWarning: IProgress not found. Please update jupyter and ipywidgets. See https://ipywidgets.readthedocs.io/en/stable/user_install.html\n",
      "  from .autonotebook import tqdm as notebook_tqdm\n"
     ]
    }
   ],
   "source": [
    "import skimage\n",
    "import skimage.io\n",
    "import skimage.transform\n",
    "import os\n",
    "import numpy as np\n",
    "import utils\n",
    "import matplotlib.pyplot as plt"
   ]
  },
  {
   "cell_type": "code",
   "execution_count": 2,
   "metadata": {},
   "outputs": [],
   "source": [
    "def convolve_im(im: np.array):\n",
    "    \"\"\"Convolves the image (im) and returns the resulting image.\n",
    "\n",
    "    Args:\n",
    "        im: np.array of shape [H, W]\n",
    "    Returns:\n",
    "        im: np.array of shape [H, W]\n",
    "    \"\"\"\n",
    "    w, h = im.shape\n",
    "\n",
    "    # FFT\n",
    "    im_fft = np.fft.fft2(im)\n",
    "\n",
    "    # Filtered FFT image\n",
    "    filtered_fft = np.fft.fftshift(im_fft)\n",
    "    filtered_fft[w // 2 - 4 : w // 2 + 4, 0 : h // 2 - 28] = 1\n",
    "    filtered_fft[w // 2 - 4 : w // 2 + 4, h // 2 + 28 : -1] = 1\n",
    "\n",
    "    # Filtered spatial image (inverse FFT)\n",
    "    conv_result = np.fft.ifft2(np.fft.ifftshift(filtered_fft)).real\n",
    "\n",
    "    return conv_result\n"
   ]
  },
  {
   "cell_type": "code",
   "execution_count": 3,
   "metadata": {},
   "outputs": [
    {
     "name": "stdout",
     "output_type": "stream",
     "text": [
      "Saving image to: image_processed/moon_filtered.png\n"
     ]
    }
   ],
   "source": [
    "if __name__ == \"__main__\":\n",
    "    # DO NOT CHANGE\n",
    "    impath = os.path.join(\"images\", \"noisy_moon.png\")\n",
    "    im = utils.read_im(impath)\n",
    "\n",
    "    ### START YOUR CODE HERE ### (You can change anything inside this block)\n",
    "    im_filtered = convolve_im(im)\n",
    "\n",
    "    ### END YOUR CODE HERE ###\n",
    "    utils.save_im(\"moon_filtered.png\", utils.normalize(im_filtered))"
   ]
  }
 ],
 "metadata": {
  "kernelspec": {
   "display_name": "Python 3.9.5 64-bit",
   "language": "python",
   "name": "python3"
  },
  "language_info": {
   "codemirror_mode": {
    "name": "ipython",
    "version": 3
   },
   "file_extension": ".py",
   "mimetype": "text/x-python",
   "name": "python",
   "nbconvert_exporter": "python",
   "pygments_lexer": "ipython3",
   "version": "3.9.5"
  },
  "vscode": {
   "interpreter": {
    "hash": "e7370f93d1d0cde622a1f8e1c04877d8463912d04d973331ad4851f04de6915a"
   }
  }
 },
 "nbformat": 4,
 "nbformat_minor": 4
}
