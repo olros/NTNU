{
 "cells": [
  {
   "cell_type": "code",
   "execution_count": null,
   "metadata": {},
   "outputs": [
    {
     "ename": "",
     "evalue": "",
     "output_type": "error",
     "traceback": [
      "\u001b[1;31mRunning cells with 'Python 3.10.0 64-bit' requires ipykernel package.\n",
      "Run the following command to install 'ipykernel' into the Python environment. \n",
      "Command: 'C:/Python310/python.exe -m pip install ipykernel -U --user --force-reinstall'"
     ]
    }
   ],
   "source": [
    "dM = 2200 # Direkte material\n",
    "dL = 1800 # Direkte lønn \n",
    "dT = 300 # Øvrige direkte tilvirkningskostnader\n",
    "salgsprovisjon = 1100\n",
    "\n",
    "MO_f = 0.29 * dM\n",
    "TO_f = 1.34 * dL\n",
    "TO_v = 0.17 * dL\n",
    "AFFO_f = 0.19\n",
    "\n",
    "TK = dM + MO_f + dL + TO_f + TO_v + dT\n",
    "\n",
    "selvkost = TK + AFFO_f * TK + salgsprovisjon\n",
    "\n",
    "selvkost\n"
   ]
  }
 ],
 "metadata": {
  "interpreter": {
   "hash": "333cb7f826909b79f15829ef8d8ab2af0ed34c798525b4e8d05cabfee37b71f4"
  },
  "kernelspec": {
   "display_name": "Python 3.8.0 64-bit",
   "language": "python",
   "name": "python3"
  },
  "language_info": {
   "codemirror_mode": {
    "name": "ipython",
    "version": 3
   },
   "file_extension": ".py",
   "mimetype": "text/x-python",
   "name": "python",
   "nbconvert_exporter": "python",
   "pygments_lexer": "ipython3",
   "version": "3.10.0"
  },
  "orig_nbformat": 4
 },
 "nbformat": 4,
 "nbformat_minor": 2
}
