{
 "cells": [
  {
   "cell_type": "markdown",
   "metadata": {},
   "source": [
    "# Score: 80.0 / 100.0"
   ]
  },
  {
   "cell_type": "markdown",
   "metadata": {},
   "source": [
    "Test cell (Score: 5.0 / 5.0)  \n",
    "Test cell (Score: 10.0 / 10.0)  \n",
    "Test cell (Score: 0.0 / 10.0)  \n",
    "Test cell (Score: 5.0 / 5.0)  \n",
    "Test cell (Score: 40.0 / 40.0)  \n",
    "Test cell (Score: 5.0 / 5.0)  \n",
    "Test cell (Score: 0.0 / 10.0)  \n",
    "Test cell (Score: 5.0 / 5.0)  \n",
    "Test cell (Score: 10.0 / 10.0)  "
   ]
  },
  {
   "cell_type": "code",
   "execution_count": null,
   "metadata": {},
   "outputs": [],
   "source": [
    "#2\n",
    "answer = 'x23=x35+x34'"
   ]
  },
  {
   "cell_type": "code",
   "execution_count": null,
   "metadata": {},
   "outputs": [],
   "source": [
    "#3\n",
    "def CalculateFlowX35(x23):\n",
    "    return 1/200 *x23"
   ]
  },
  {
   "cell_type": "code",
   "execution_count": null,
   "metadata": {},
   "outputs": [],
   "source": [
    "#4a\n",
    "beer = 50/2\n",
    "soda = 0.10*(93/2)\n",
    "water = 0.10*(7/2)\n",
    "grams = 14\n",
    "m_alucans = ((beer + soda + water)*grams)/1000"
   ]
  },
  {
   "cell_type": "code",
   "execution_count": null,
   "metadata": {},
   "outputs": [],
   "source": [
    "#4b\n",
    "flow = 'x34'"
   ]
  },
  {
   "cell_type": "code",
   "execution_count": null,
   "metadata": {},
   "outputs": [],
   "source": [
    "#5\n",
    "A = np.array([[1, -1, -1, 0, 0, 0, 0, 0, 0, 0, 1],\n",
    "             [0, 1, 0, -1, -1, 0, 0, 0, 0, 0, 0],\n",
    "             [0, 0, 0, 1, 0, -1, -1, 0, 0, 0, 0],\n",
    "             [0, 0, 0, 0, 0, 1, 0, -1, -1, 0, 0],\n",
    "             [0, 0, 1, 0, 1, 0, 1, 0, 1, -1, -1],\n",
    "             [-0.72, 1, 0, 0, 0, 0, 0, 0, 0, 0, -0.72],\n",
    "             [0, -0.79, 0, 1, 0, 0, 0, 0, 0, 0, 0],\n",
    "             [0, 0, 0, -1/200, 0, 0, 1, 0, 0, 0, 0],\n",
    "             [0, 0, 0, 0, 0, -0.85, 0, 0, 1, 0, 0],\n",
    "             [0, 0, -0.025, 0, -0.025, 0, -0.025, 0, -0.025, 1, 0],\n",
    "             [0, 0, 0, 0, 0, 1, 0, 0, 0, 0, 0]])\n",
    "y = np.array([[0],[0],[0],[0],[0],[0],[0],[0],[0],[0],[m_alucans]])\n",
    "x = np.linalg.inv(A)@y"
   ]
  },
  {
   "cell_type": "code",
   "execution_count": null,
   "metadata": {},
   "outputs": [],
   "source": [
    "#6a\n",
    "x51 = x[-1]"
   ]
  },
  {
   "cell_type": "code",
   "execution_count": null,
   "metadata": {},
   "outputs": [],
   "source": [
    "#6a\n",
    "loss_share_consumers = x[-4]/x[-6]"
   ]
  },
  {
   "cell_type": "code",
   "execution_count": null,
   "metadata": {},
   "outputs": [],
   "source": [
    "#6c\n",
    "x01 = x[0]"
   ]
  },
  {
   "cell_type": "code",
   "execution_count": null,
   "metadata": {},
   "outputs": [],
   "source": [
    "#6d\n",
    "A = np.array([[1, -1, -1, 0, 0, 0, 0, 0, 0, 0, 1],\n",
    "             [0, 1, 0, -1, -1, 0, 0, 0, 0, 0, 0],\n",
    "             [0, 0, 0, 1, 0, -1, -1, 0, 0, 0, 0],\n",
    "             [0, 0, 0, 0, 0, 1, 0, -1, -1, 0, 0],\n",
    "             [0, 0, 1, 0, 1, 0, 1, 0, 1, -1, -1],\n",
    "             [-0.72, 1, 0, 0, 0, 0, 0, 0, 0, 0, -0.72],\n",
    "             [0, -0.90, 0, 1, 0, 0, 0, 0, 0, 0, 0],\n",
    "             [0, 0, 0, -1/200, 0, 0, 1, 0, 0, 0, 0],\n",
    "             [0, 0, 0, 0, 0, -0.85, 0, 0, 1, 0, 0],\n",
    "             [0, 0, -0.025, 0, -0.025, 0, -0.025, 0, -0.025, 1, 0],\n",
    "             [0, 0, 0, 0, 0, 1, 0, 0, 0, 0, 0]])\n",
    "y = np.array([[0],[0],[0],[0],[0],[0],[0],[0],[0],[0],[m_alucans]])\n",
    "x = np.linalg.inv(A)@y\n",
    "x01_new = x[0]"
   ]
  }
 ],
 "metadata": {
  "language_info": {
   "name": "python"
  },
  "orig_nbformat": 4
 },
 "nbformat": 4,
 "nbformat_minor": 2
}
