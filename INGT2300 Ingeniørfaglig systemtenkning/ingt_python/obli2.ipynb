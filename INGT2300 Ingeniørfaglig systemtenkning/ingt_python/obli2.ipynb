{
 "cells": [
  {
   "cell_type": "markdown",
   "metadata": {},
   "source": [
    "# Score: 100.0 / 100.0"
   ]
  },
  {
   "cell_type": "markdown",
   "metadata": {},
   "source": [
    "Test cell (Score: 10.0 / 10.0)  \n",
    "Test cell (Score: 5.0 / 5.0)  \n",
    "Test cell (Score: 10.0 / 10.0)  \n",
    "Test cell (Score: 5.0 / 5.0)  \n",
    "Test cell (Score: 5.0 / 5.0)  \n",
    "Test cell (Score: 10.0 / 10.0)  \n",
    "Test cell (Score: 5.0 / 5.0)  \n",
    "Test cell (Score: 10.0 / 10.0)  \n",
    "Test cell (Score: 5.0 / 5.0)  \n",
    "Test cell (Score: 10.0 / 10.0)  \n",
    "Test cell (Score: 10.0 / 10.0)  \n",
    "Test cell (Score: 10.0 / 10.0)  \n",
    "Test cell (Score: 5.0 / 5.0)  "
   ]
  },
  {
   "cell_type": "code",
   "execution_count": null,
   "metadata": {},
   "outputs": [],
   "source": [
    "#1a\n",
    "\n",
    "A = np.array([[8,-1], \n",
    "              [-4,4]])"
   ]
  },
  {
   "cell_type": "code",
   "execution_count": null,
   "metadata": {},
   "outputs": [],
   "source": [
    "#1b\n",
    "f = np.array([[0],\n",
    "              [579]])"
   ]
  },
  {
   "cell_type": "code",
   "execution_count": null,
   "metadata": {},
   "outputs": [],
   "source": [
    "#1c\n",
    "B=np.array([[-11, 0],\n",
    "            [1.5,0.2]])"
   ]
  },
  {
   "cell_type": "code",
   "execution_count": null,
   "metadata": {},
   "outputs": [],
   "source": [
    "#1d\n",
    "f = np.array([[1],\n",
    "              [0]])\n",
    "r = B@np.linalg.inv(A)@f"
   ]
  },
  {
   "cell_type": "code",
   "execution_count": null,
   "metadata": {},
   "outputs": [],
   "source": [
    "#1e\n",
    "f_fuel_perkWh = 1/4"
   ]
  },
  {
   "cell_type": "code",
   "execution_count": null,
   "metadata": {},
   "outputs": [],
   "source": [
    "#2a\n",
    "A = np.array([[1, -1, -25, -1 ],\n",
    "              [0, 1, 0, -0.185], \n",
    "              [0,0,1,-0.015], \n",
    "              [0,0,0,1]])"
   ]
  },
  {
   "cell_type": "code",
   "execution_count": null,
   "metadata": {},
   "outputs": [],
   "source": [
    "#2b\n",
    "f = np.array([[0],[0],[0],[1]])"
   ]
  },
  {
   "cell_type": "code",
   "execution_count": null,
   "metadata": {},
   "outputs": [],
   "source": [
    "#2c\n",
    "B = np.array([[-5, -2, -2, 0],\n",
    "              [0.2, 0.99, 8.4, 0.5],\n",
    "              [0.1, 9.5, 0.66, 0.2]])"
   ]
  },
  {
   "cell_type": "code",
   "execution_count": null,
   "metadata": {},
   "outputs": [],
   "source": [
    "#2d\n",
    "r=B@np.linalg.inv(A)@f"
   ]
  },
  {
   "cell_type": "code",
   "execution_count": null,
   "metadata": {},
   "outputs": [],
   "source": [
    "#3a\n",
    "pros = 0.27\n",
    "total = 1\n",
    "pet_price = 3\n",
    "pp_price = 4\n",
    "x_mass_PET = (pros*total)/total\n",
    "x_econ_PET = pet_price/(pp_price+pet_price)"
   ]
  },
  {
   "cell_type": "code",
   "execution_count": null,
   "metadata": {},
   "outputs": [],
   "source": [
    "#3b\n",
    "pet_price = 3\n",
    "pp_price = 4\n",
    "x_econ_PP = pp_price/(pp_price+pet_price)\n",
    "A_PET = np.array([[1, -1*x_econ_PET, -1*x_econ_PP, -25, -1 ],\n",
    "                  [0, 1*x_econ_PET, 0, 0, -0.185], \n",
    "                  [0, 0, 1*x_econ_PP, 0,0],\n",
    "                  [0,0,0,1,-0.015],\n",
    "                  [0,0,0,0,1]])"
   ]
  },
  {
   "cell_type": "code",
   "execution_count": null,
   "metadata": {},
   "outputs": [],
   "source": [
    "#3c\n",
    "B_PET = np.array([[-5, -2*x_econ_PET, -2*x_econ_PP, -2, 0],\n",
    "                  [0.2, 0.99*x_econ_PET, 0.99*x_econ_PP, 8.4, 0.5],\n",
    "                  [0.1, 9.5*x_econ_PET, 9.5*x_econ_PP, 0.66, 0.2]])"
   ]
  },
  {
   "cell_type": "code",
   "execution_count": null,
   "metadata": {},
   "outputs": [],
   "source": [
    "#3d\n",
    "f_PET =  np.array([[0],[0],[0],[0],[1]])\n",
    "r_PET = B_PET@np.linalg.inv(A_PET)@f_PET"
   ]
  }
 ],
 "metadata": {
  "language_info": {
   "name": "python"
  },
  "orig_nbformat": 4
 },
 "nbformat": 4,
 "nbformat_minor": 2
}
