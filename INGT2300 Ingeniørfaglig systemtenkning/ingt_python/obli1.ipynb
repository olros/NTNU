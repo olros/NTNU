{
 "cells": [
  {
   "cell_type": "markdown",
   "metadata": {},
   "source": [
    "# Score: 90.0 / 100.0"
   ]
  },
  {
   "cell_type": "markdown",
   "metadata": {},
   "source": [
    "Test cell (Score: 10.0 / 10.0)  \n",
    "Test cell (Score: 10.0 / 10.0)  \n",
    "Test cell (Score: 10.0 / 10.0)  \n",
    "Test cell (Score: 0.0 / 10.0)  \n",
    "Test cell (Score: 10.0 / 10.0)  \n",
    "Test cell (Score: 10.0 / 10.0)  \n",
    "Test cell (Score: 10.0 / 10.0)  \n",
    "Test cell (Score: 10.0 / 10.0)  \n",
    "Test cell (Score: 10.0 / 10.0)  \n",
    "Test cell (Score: 10.0 / 10.0)  "
   ]
  },
  {
   "cell_type": "code",
   "execution_count": null,
   "metadata": {},
   "outputs": [],
   "source": [
    "\n",
    "\n",
    "#1)\n",
    "\n",
    "x1 = 3250\n",
    "y1 = 1625\n",
    "x2 = 31500\n",
    "def calc_em_wind(x1, y1, x2, em1, em2):\n",
    "    return (em1)*(x2/y1) + em2\n",
    "wind_CO2 = calc_em_wind(x1, y1, x2, 2000, 2000)\n",
    "wind_SO2 = calc_em_wind(x1, y1, x2, 150, 250)\n",
    "wind_PM10 = calc_em_wind(x1, y1, x2, 0.2, 0.4)"
   ]
  },
  {
   "cell_type": "code",
   "execution_count": 2,
   "metadata": {},
   "outputs": [],
   "source": [
    "#2a)\n",
    "x1 = 3250\n",
    "y1 = 1625\n",
    "y2 = 325\n",
    "y1_econ = 1000\n",
    "y2_econ = 70\n",
    "x_mass_steel =(y1/(y2+y1))\n",
    "x_econ_steel = y1_econ/(y1_econ + y2_econ)"
   ]
  },
  {
   "cell_type": "code",
   "execution_count": 3,
   "metadata": {},
   "outputs": [],
   "source": [
    "#2b)\n",
    "co2= 2000\n",
    "so2 = 150\n",
    "pm10 = 0.2\n",
    "y1_econ = 1000\n",
    "y2_econ = 70\n",
    "def calc(em, amount, total):\n",
    "    return em *amount/total\n",
    "\n",
    "steel_hq_CO2 = calc(co2, y1_econ, y1_econ + y2_econ) \n",
    "steel_hq_SO2  = calc(so2, y1_econ, y1_econ + y2_econ)\n",
    "steel_hq_PM10 = calc(pm10, y1_econ, y1_econ + y2_econ)"
   ]
  },
  {
   "cell_type": "code",
   "execution_count": 4,
   "metadata": {},
   "outputs": [],
   "source": [
    "#2c)\n",
    "x1 = 3250\n",
    "y1 = 1625\n",
    "x2 = 31500\n",
    "def calc(em1, y1, x2, em2):\n",
    "    return em1 * y1/x2 + em2\n",
    "\n",
    "wind_hqsteel_CO2 = calc(steel_hq_CO2, y1, x2, 200)\n",
    "wind_hqsteel_SO2 = calc(steel_hq_SO2, y1, x2, 250)\n",
    "wind_hqsteel_PM10 = calc(steel_hq_PM10, y1, x2, 0.4)"
   ]
  },
  {
   "cell_type": "code",
   "execution_count": 5,
   "metadata": {},
   "outputs": [],
   "source": [
    "#3a)\n",
    "m_diesel_steel = 115 + 41 + 27 + 4 + 297\n",
    "m_diesel_alum = 115 + 38 +7 +41 +100 +30\n",
    "m_diesel_other = 41 + 2 + 127 + 100\n",
    "materials_diesel = [m_diesel_steel, m_diesel_alum, m_diesel_other]\n",
    "m_electric_steel = 115 + 4 + 297 + 22 + 33\n",
    "m_electric_alum = 115 + 41 + 100 +30 +21 +37\n",
    "m_electric_other = 41 + 2 + 127 + 100 +20 +100\n",
    "materials_electric = [m_electric_steel, m_electric_alum, m_electric_other]"
   ]
  },
  {
   "cell_type": "code",
   "execution_count": 6,
   "metadata": {},
   "outputs": [],
   "source": [
    "#3b)\n",
    "mass_diesel = sum(materials_diesel)\n",
    "mass_electric = sum(materials_electric)"
   ]
  },
  {
   "cell_type": "code",
   "execution_count": 7,
   "metadata": {},
   "outputs": [],
   "source": [
    "#3c)\n",
    "e_diesel  = [2200, 1224,500,300,500,2000,500, 150]\n",
    "e_electric = [2200,300,500,2000,500, 1077,4637,150]"
   ]
  },
  {
   "cell_type": "code",
   "execution_count": 8,
   "metadata": {},
   "outputs": [],
   "source": [
    "#3d)\n",
    "e_sum_diesel  = sum(e_diesel)\n",
    "e_sum_electric = sum(e_electric)"
   ]
  },
  {
   "cell_type": "code",
   "execution_count": 9,
   "metadata": {},
   "outputs": [],
   "source": [
    "#4a)\n",
    "pedv_steel_CO2 = [1, 1 , 1, 1, 1]\n",
    "pedv_steel_SO2 = [1, 1, 1, 1, 1]\n",
    "pedv_steel_PM10 = [4, 2, 1, 1, 3]"
   ]
  },
  {
   "cell_type": "code",
   "execution_count": 10,
   "metadata": {},
   "outputs": [],
   "source": [
    "#4b)\n",
    "pedv_windpl = [1, 1, 1, 1, 1]\n",
    "u_CO2 =(50_000 * pedv_steel_CO2[2] + 2_000 * pedv_windpl[2])/(50_000 + 2_000)\n",
    "u_PM10 = (50_000 * pedv_steel_PM10[2] + 2_000 * pedv_windpl[2])/(50_000 + 2_000)"
   ]
  }
 ],
 "metadata": {
  "interpreter": {
   "hash": "2be5faf79681da6f2a61fdfdd5405d65d042280f7fba6178067603e3a2925119"
  },
  "kernelspec": {
   "display_name": "Python 3.10.1 64-bit",
   "language": "python",
   "name": "python3"
  },
  "language_info": {
   "codemirror_mode": {
    "name": "ipython",
    "version": 3
   },
   "file_extension": ".py",
   "mimetype": "text/x-python",
   "name": "python",
   "nbconvert_exporter": "python",
   "pygments_lexer": "ipython3",
   "version": "3.10.1"
  },
  "orig_nbformat": 4
 },
 "nbformat": 4,
 "nbformat_minor": 2
}
